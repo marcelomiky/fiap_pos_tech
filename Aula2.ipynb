{
 "cells": [
  {
   "cell_type": "code",
   "execution_count": 2,
   "metadata": {},
   "outputs": [],
   "source": [
    "import pandas as pd\n",
    "import numpy as np"
   ]
  },
  {
   "cell_type": "code",
   "execution_count": 3,
   "metadata": {},
   "outputs": [],
   "source": [
    "df = pd.DataFrame({\"nome\":['Peter','Bruce', \"T'Challa\"],\n",
    "                  \"simbolo\": ['aranha', 'morcego', 'pantera'],\n",
    "                  \"idade\": [22, pd.NaT, 25]})"
   ]
  },
  {
   "cell_type": "code",
   "execution_count": 4,
   "metadata": {},
   "outputs": [
    {
     "data": {
      "text/html": [
       "<div>\n",
       "<style scoped>\n",
       "    .dataframe tbody tr th:only-of-type {\n",
       "        vertical-align: middle;\n",
       "    }\n",
       "\n",
       "    .dataframe tbody tr th {\n",
       "        vertical-align: top;\n",
       "    }\n",
       "\n",
       "    .dataframe thead th {\n",
       "        text-align: right;\n",
       "    }\n",
       "</style>\n",
       "<table border=\"1\" class=\"dataframe\">\n",
       "  <thead>\n",
       "    <tr style=\"text-align: right;\">\n",
       "      <th></th>\n",
       "      <th>nome</th>\n",
       "      <th>simbolo</th>\n",
       "      <th>idade</th>\n",
       "    </tr>\n",
       "  </thead>\n",
       "  <tbody>\n",
       "    <tr>\n",
       "      <th>0</th>\n",
       "      <td>Peter</td>\n",
       "      <td>aranha</td>\n",
       "      <td>22</td>\n",
       "    </tr>\n",
       "    <tr>\n",
       "      <th>1</th>\n",
       "      <td>Bruce</td>\n",
       "      <td>morcego</td>\n",
       "      <td>NaT</td>\n",
       "    </tr>\n",
       "    <tr>\n",
       "      <th>2</th>\n",
       "      <td>T'Challa</td>\n",
       "      <td>pantera</td>\n",
       "      <td>25</td>\n",
       "    </tr>\n",
       "  </tbody>\n",
       "</table>\n",
       "</div>"
      ],
      "text/plain": [
       "       nome  simbolo idade\n",
       "0     Peter   aranha    22\n",
       "1     Bruce  morcego   NaT\n",
       "2  T'Challa  pantera    25"
      ]
     },
     "execution_count": 4,
     "metadata": {},
     "output_type": "execute_result"
    }
   ],
   "source": [
    "df"
   ]
  },
  {
   "cell_type": "code",
   "execution_count": 5,
   "metadata": {},
   "outputs": [
    {
     "data": {
      "text/html": [
       "<div>\n",
       "<style scoped>\n",
       "    .dataframe tbody tr th:only-of-type {\n",
       "        vertical-align: middle;\n",
       "    }\n",
       "\n",
       "    .dataframe tbody tr th {\n",
       "        vertical-align: top;\n",
       "    }\n",
       "\n",
       "    .dataframe thead th {\n",
       "        text-align: right;\n",
       "    }\n",
       "</style>\n",
       "<table border=\"1\" class=\"dataframe\">\n",
       "  <thead>\n",
       "    <tr style=\"text-align: right;\">\n",
       "      <th></th>\n",
       "      <th>nome</th>\n",
       "      <th>simbolo</th>\n",
       "      <th>idade</th>\n",
       "    </tr>\n",
       "  </thead>\n",
       "  <tbody>\n",
       "    <tr>\n",
       "      <th>0</th>\n",
       "      <td>Peter</td>\n",
       "      <td>aranha</td>\n",
       "      <td>22</td>\n",
       "    </tr>\n",
       "    <tr>\n",
       "      <th>2</th>\n",
       "      <td>T'Challa</td>\n",
       "      <td>pantera</td>\n",
       "      <td>25</td>\n",
       "    </tr>\n",
       "  </tbody>\n",
       "</table>\n",
       "</div>"
      ],
      "text/plain": [
       "       nome  simbolo idade\n",
       "0     Peter   aranha    22\n",
       "2  T'Challa  pantera    25"
      ]
     },
     "execution_count": 5,
     "metadata": {},
     "output_type": "execute_result"
    }
   ],
   "source": [
    "df.dropna()"
   ]
  },
  {
   "attachments": {},
   "cell_type": "markdown",
   "metadata": {},
   "source": [
    "## Código para o cálculo do RMSE"
   ]
  },
  {
   "cell_type": "code",
   "execution_count": 6,
   "metadata": {},
   "outputs": [
    {
     "name": "stdout",
     "output_type": "stream",
     "text": [
      "MSE: 87800000.0\n",
      "RMSE: 9370.165420097983\n"
     ]
    }
   ],
   "source": [
    "import numpy as np\n",
    "\n",
    "# Valores reais\n",
    "reais = [100000, 150000, 200000, 250000, 300000]\n",
    "\n",
    "# Valores previstos pelo modelo\n",
    "prev = [95000, 142000, 210000, 245000, 315000]\n",
    "\n",
    "# Cálculo do RMSE\n",
    "diferencas = [r - p for r, p in zip(reais, prev)]\n",
    "quadrados_das_diferencas = [d ** 2 for d in diferencas]\n",
    "mse = np.mean(quadrados_das_diferencas)\n",
    "rmse = np.sqrt(mse)\n",
    "\n",
    "print(f\"MSE: {mse}\\nRMSE: {rmse}\")"
   ]
  },
  {
   "attachments": {},
   "cell_type": "markdown",
   "metadata": {},
   "source": [
    "## Código para o cálculo do RMSE com Scikit-Learn"
   ]
  },
  {
   "cell_type": "code",
   "execution_count": null,
   "metadata": {},
   "outputs": [],
   "source": [
    "import numpy as np\n",
    "from sklearn.metrics import mean_squared_error\n",
    "\n",
    "# Valores reais\n",
    "reais = [100000, 150000, 200000, 250000, 300000]\n",
    "\n",
    "# Valores previstos pelo modelo\n",
    "prev = [95000, 142000, 210000, 245000, 315000]\n",
    "\n",
    "# Cálculo do RMSE com scikit-learn\n",
    "mse = mean_squared_error(reais, prev)\n",
    "rmse = np.sqrt(mse)\n",
    "\n",
    "print(f\"MSE: {mse}\\nRMSE: {rmse}\")"
   ]
  },
  {
   "attachments": {},
   "cell_type": "markdown",
   "metadata": {},
   "source": [
    "# Exemplo de Imputação de valores faltantes"
   ]
  },
  {
   "cell_type": "code",
   "execution_count": 8,
   "metadata": {},
   "outputs": [
    {
     "name": "stdout",
     "output_type": "stream",
     "text": [
      "Dados após imputação: \n",
      "[[ 1.   2.   3.   9. ]\n",
      " [ 4.   5.5  6.   7. ]\n",
      " [ 8.   9.  10.  11. ]]\n"
     ]
    }
   ],
   "source": [
    "from sklearn.impute import SimpleImputer\n",
    "\n",
    "# Dados com valores ausentes\n",
    "dados = np.array([[1, 2, 3, np.nan],\n",
    "                  [4, np.nan, 6, 7],\n",
    "                  [8, 9, 10, 11]])\n",
    "\n",
    "# Imputação com a média das colunas\n",
    "imputador=SimpleImputer(missing_values=np.nan, strategy='mean')\n",
    "dados_imputados = imputador.fit_transform(dados)\n",
    "\n",
    "print(f\"Dados após imputação: \\n{dados_imputados}\")"
   ]
  },
  {
   "attachments": {},
   "cell_type": "markdown",
   "metadata": {},
   "source": [
    "## Identificação de outliers"
   ]
  },
  {
   "cell_type": "code",
   "execution_count": 9,
   "metadata": {},
   "outputs": [
    {
     "name": "stdout",
     "output_type": "stream",
     "text": [
      "Outliers por IQR: [5]\n"
     ]
    }
   ],
   "source": [
    "dados = np.array([1, 2, 3, 4, 5, 100])\n",
    "\n",
    "q1 = np.percentile(dados, 25)\n",
    "q3 = np.percentile(dados, 75)\n",
    "iqr = q3 - q1\n",
    "\n",
    "# Limite inferior e superior\n",
    "limite_inf = q1 - 1.5 * iqr\n",
    "limite_sup = q3 + 1.5 * iqr\n",
    "\n",
    "outliers=np.where((dados<limite_inf)|(dados>limite_sup))[0]\n",
    "print(f\"Outliers por IQR: {outliers}\")"
   ]
  },
  {
   "attachments": {},
   "cell_type": "markdown",
   "metadata": {},
   "source": [
    "## Removendo Outliers"
   ]
  },
  {
   "cell_type": "code",
   "execution_count": 12,
   "metadata": {},
   "outputs": [
    {
     "name": "stdout",
     "output_type": "stream",
     "text": [
      "Nova lista sem outlier: [1 2 3 4 5]\n"
     ]
    }
   ],
   "source": [
    "print(f\"Nova lista sem outlier: {np.delete(dados, 5)}\")"
   ]
  },
  {
   "attachments": {},
   "cell_type": "markdown",
   "metadata": {},
   "source": [
    "## Normalização dos dados de uma lista"
   ]
  },
  {
   "cell_type": "code",
   "execution_count": 16,
   "metadata": {},
   "outputs": [
    {
     "name": "stdout",
     "output_type": "stream",
     "text": [
      "Dados normalizados: [[0.25  0.375 0.625 0.75  0.875 0.5   1.    0.875 0.75 ]]\n"
     ]
    }
   ],
   "source": [
    "from sklearn.preprocessing import normalize\n",
    "\n",
    "# Dados a serem normalizados/padronizados\n",
    "dados = np.array([2, 3, 5, 6, 7, 4, 8, 7, 6])\n",
    "\n",
    "# Normalização entre 0 e 1\n",
    "dados_normalizados = normalize([dados], norm='max')\n",
    "\n",
    "print(f\"Dados normalizados: {dados_normalizados}\")"
   ]
  },
  {
   "attachments": {},
   "cell_type": "markdown",
   "metadata": {},
   "source": [
    "## Padronização dos dados "
   ]
  },
  {
   "cell_type": "code",
   "execution_count": 18,
   "metadata": {},
   "outputs": [
    {
     "name": "stdout",
     "output_type": "stream",
     "text": [
      "Dados padronizados:\n",
      "[[-1.22474487 -1.22474487 -1.22474487]\n",
      " [ 0.          0.          0.        ]\n",
      " [ 1.22474487  1.22474487  1.22474487]]\n"
     ]
    }
   ],
   "source": [
    "from sklearn.preprocessing import StandardScaler\n",
    "\n",
    "dados = np.array([[1, 2, 3], [4, 5, 6],[7, 8, 9]])\n",
    "\n",
    "# Padronização com média 0 e desvio padrão 1\n",
    "padronizador = StandardScaler()\n",
    "dados_padronizados = padronizador.fit_transform(dados)\n",
    "\n",
    "print(f\"Dados padronizados:\\n{dados_padronizados}\")"
   ]
  },
  {
   "attachments": {},
   "cell_type": "markdown",
   "metadata": {},
   "source": [
    "## Codificação com one-hot encoding e label encoding"
   ]
  },
  {
   "cell_type": "code",
   "execution_count": 20,
   "metadata": {},
   "outputs": [
    {
     "name": "stdout",
     "output_type": "stream",
     "text": [
      "Dados one-hot encoding:\n",
      "[[1. 0. 0.]\n",
      " [0. 1. 0.]\n",
      " [0. 0. 1.]\n",
      " [1. 0. 0.]\n",
      " [0. 1. 0.]]\n"
     ]
    }
   ],
   "source": [
    "from sklearn.preprocessing import OneHotEncoder, LabelEncoder\n",
    "\n",
    "# Dados categóricos\n",
    "dados_categóricos = np.array(['A', 'B', 'C', 'A', 'B'])\n",
    "\n",
    "# Codificação one-hot encoding\n",
    "codific_one_hot = OneHotEncoder()\n",
    "dados_one_hot=codific_one_hot.fit_transform(dados_categóricos.reshape(-1, 1))\n",
    "\n",
    "print(f\"Dados one-hot encoding:\\n{dados_one_hot.toarray()}\")"
   ]
  },
  {
   "cell_type": "code",
   "execution_count": 21,
   "metadata": {},
   "outputs": [
    {
     "name": "stdout",
     "output_type": "stream",
     "text": [
      "Dados label encoding:\n",
      "[0 1 2 0 1]\n"
     ]
    }
   ],
   "source": [
    "# Codificação de label encoding\n",
    "codificador_label = LabelEncoder()\n",
    "dados_label=codificador_label.fit_transform(dados_categóricos)\n",
    "\n",
    "print(f\"Dados label encoding:\\n{dados_label}\")"
   ]
  },
  {
   "cell_type": "code",
   "execution_count": null,
   "metadata": {},
   "outputs": [],
   "source": []
  }
 ],
 "metadata": {
  "kernelspec": {
   "display_name": "base",
   "language": "python",
   "name": "python3"
  },
  "language_info": {
   "codemirror_mode": {
    "name": "ipython",
    "version": 3
   },
   "file_extension": ".py",
   "mimetype": "text/x-python",
   "name": "python",
   "nbconvert_exporter": "python",
   "pygments_lexer": "ipython3",
   "version": "3.10.13"
  },
  "orig_nbformat": 4
 },
 "nbformat": 4,
 "nbformat_minor": 2
}
